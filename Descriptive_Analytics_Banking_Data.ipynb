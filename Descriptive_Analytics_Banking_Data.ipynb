{
 "cells": [
  {
   "cell_type": "markdown",
   "metadata": {},
   "source": [
    "# Load libraries"
   ]
  },
  {
   "cell_type": "code",
   "execution_count": 1,
   "metadata": {},
   "outputs": [],
   "source": [
    "import numpy as np\n",
    "import pandas as pd\n",
    "import seaborn as sns\n",
    "import matplotlib.pyplot as plt"
   ]
  },
  {
   "cell_type": "markdown",
   "metadata": {},
   "source": [
    "# Load dataset"
   ]
  },
  {
   "cell_type": "code",
   "execution_count": 2,
   "metadata": {},
   "outputs": [],
   "source": [
    "df = pd.read_csv(r'C:\\Users\\Rachna\\Desktop\\Datasets\\Descriptive_Analytics_Banking_Data18MAY.csv',delimiter = ';')"
   ]
  },
  {
   "cell_type": "code",
   "execution_count": 3,
   "metadata": {},
   "outputs": [
    {
     "data": {
      "text/html": [
       "<div>\n",
       "<style scoped>\n",
       "    .dataframe tbody tr th:only-of-type {\n",
       "        vertical-align: middle;\n",
       "    }\n",
       "\n",
       "    .dataframe tbody tr th {\n",
       "        vertical-align: top;\n",
       "    }\n",
       "\n",
       "    .dataframe thead th {\n",
       "        text-align: right;\n",
       "    }\n",
       "</style>\n",
       "<table border=\"1\" class=\"dataframe\">\n",
       "  <thead>\n",
       "    <tr style=\"text-align: right;\">\n",
       "      <th></th>\n",
       "      <th>Month</th>\n",
       "      <th>CLIENTNUM</th>\n",
       "      <th>wealth_tag</th>\n",
       "      <th>card_type</th>\n",
       "      <th>Revlv_ind</th>\n",
       "      <th>spend_category</th>\n",
       "      <th>Trans_amt</th>\n",
       "      <th>trans_cnt</th>\n",
       "    </tr>\n",
       "  </thead>\n",
       "  <tbody>\n",
       "    <tr>\n",
       "      <th>0</th>\n",
       "      <td>1301</td>\n",
       "      <td>9124400</td>\n",
       "      <td>High Net Worth</td>\n",
       "      <td>Blue</td>\n",
       "      <td>Transactor</td>\n",
       "      <td>Grocery</td>\n",
       "      <td>76.40</td>\n",
       "      <td>9</td>\n",
       "    </tr>\n",
       "    <tr>\n",
       "      <th>1</th>\n",
       "      <td>1301</td>\n",
       "      <td>9124400</td>\n",
       "      <td>High Net Worth</td>\n",
       "      <td>Blue</td>\n",
       "      <td>Transactor</td>\n",
       "      <td>Auto</td>\n",
       "      <td>55.48</td>\n",
       "      <td>6</td>\n",
       "    </tr>\n",
       "    <tr>\n",
       "      <th>2</th>\n",
       "      <td>1301</td>\n",
       "      <td>5782042</td>\n",
       "      <td>High Net Worth</td>\n",
       "      <td>Blue</td>\n",
       "      <td>Transactor</td>\n",
       "      <td>Airlines</td>\n",
       "      <td>79.16</td>\n",
       "      <td>8</td>\n",
       "    </tr>\n",
       "    <tr>\n",
       "      <th>3</th>\n",
       "      <td>1301</td>\n",
       "      <td>5782042</td>\n",
       "      <td>High Net Worth</td>\n",
       "      <td>Blue</td>\n",
       "      <td>Transactor</td>\n",
       "      <td>Grocery</td>\n",
       "      <td>78.87</td>\n",
       "      <td>8</td>\n",
       "    </tr>\n",
       "    <tr>\n",
       "      <th>4</th>\n",
       "      <td>1301</td>\n",
       "      <td>5782042</td>\n",
       "      <td>High Net Worth</td>\n",
       "      <td>Blue</td>\n",
       "      <td>Transactor</td>\n",
       "      <td>Auto</td>\n",
       "      <td>58.00</td>\n",
       "      <td>6</td>\n",
       "    </tr>\n",
       "  </tbody>\n",
       "</table>\n",
       "</div>"
      ],
      "text/plain": [
       "   Month  CLIENTNUM      wealth_tag card_type   Revlv_ind spend_category  \\\n",
       "0   1301    9124400  High Net Worth      Blue  Transactor        Grocery   \n",
       "1   1301    9124400  High Net Worth      Blue  Transactor           Auto   \n",
       "2   1301    5782042  High Net Worth      Blue  Transactor       Airlines   \n",
       "3   1301    5782042  High Net Worth      Blue  Transactor        Grocery   \n",
       "4   1301    5782042  High Net Worth      Blue  Transactor           Auto   \n",
       "\n",
       "   Trans_amt  trans_cnt  \n",
       "0      76.40          9  \n",
       "1      55.48          6  \n",
       "2      79.16          8  \n",
       "3      78.87          8  \n",
       "4      58.00          6  "
      ]
     },
     "execution_count": 3,
     "metadata": {},
     "output_type": "execute_result"
    }
   ],
   "source": [
    "df.head()"
   ]
  },
  {
   "cell_type": "code",
   "execution_count": 4,
   "metadata": {},
   "outputs": [
    {
     "data": {
      "text/plain": [
       "(8052, 8)"
      ]
     },
     "execution_count": 4,
     "metadata": {},
     "output_type": "execute_result"
    }
   ],
   "source": [
    "df.shape"
   ]
  },
  {
   "cell_type": "markdown",
   "metadata": {},
   "source": [
    "# Data Cleaning:"
   ]
  },
  {
   "cell_type": "markdown",
   "metadata": {},
   "source": [
    "## Checking null values"
   ]
  },
  {
   "cell_type": "code",
   "execution_count": 5,
   "metadata": {},
   "outputs": [
    {
     "data": {
      "text/plain": [
       "Month             0\n",
       "CLIENTNUM         0\n",
       "wealth_tag        0\n",
       "card_type         0\n",
       "Revlv_ind         0\n",
       "spend_category    0\n",
       "Trans_amt         4\n",
       "trans_cnt         0\n",
       "dtype: int64"
      ]
     },
     "execution_count": 5,
     "metadata": {},
     "output_type": "execute_result"
    }
   ],
   "source": [
    "df.isnull().sum()"
   ]
  },
  {
   "cell_type": "markdown",
   "metadata": {},
   "source": [
    "## Filling missing values"
   ]
  },
  {
   "cell_type": "code",
   "execution_count": 6,
   "metadata": {},
   "outputs": [
    {
     "data": {
      "text/plain": [
       "<matplotlib.axes._subplots.AxesSubplot at 0x1fd1c8aadc8>"
      ]
     },
     "execution_count": 6,
     "metadata": {},
     "output_type": "execute_result"
    },
    {
     "data": {
      "image/png": "[encoded data removed]",
      "text/plain": [
       "<Figure size 432x288 with 1 Axes>"
      ]
     },
     "metadata": {
      "needs_background": "light"
     },
     "output_type": "display_data"
    }
   ],
   "source": [
    "df['Trans_amt'].plot.hist()"
   ]
  },
  {
   "cell_type": "code",
   "execution_count": 7,
   "metadata": {},
   "outputs": [],
   "source": [
    "df['Trans_amt'].fillna(df['Trans_amt'].median(), inplace = True)"
   ]
  },
  {
   "cell_type": "code",
   "execution_count": 8,
   "metadata": {},
   "outputs": [
    {
     "data": {
      "text/plain": [
       "Month             0\n",
       "CLIENTNUM         0\n",
       "wealth_tag        0\n",
       "card_type         0\n",
       "Revlv_ind         0\n",
       "spend_category    0\n",
       "Trans_amt         0\n",
       "trans_cnt         0\n",
       "dtype: int64"
      ]
     },
     "execution_count": 8,
     "metadata": {},
     "output_type": "execute_result"
    }
   ],
   "source": [
    "df.isnull().sum()"
   ]
  },
  {
   "cell_type": "markdown",
   "metadata": {},
   "source": [
    "* Here , all missing values are filled."
   ]
  },
  {
   "cell_type": "code",
   "execution_count": 9,
   "metadata": {},
   "outputs": [
    {
     "name": "stdout",
     "output_type": "stream",
     "text": [
      "<class 'pandas.core.frame.DataFrame'>\n",
      "RangeIndex: 8052 entries, 0 to 8051\n",
      "Data columns (total 8 columns):\n",
      " #   Column          Non-Null Count  Dtype  \n",
      "---  ------          --------------  -----  \n",
      " 0   Month           8052 non-null   int64  \n",
      " 1   CLIENTNUM       8052 non-null   int64  \n",
      " 2   wealth_tag      8052 non-null   object \n",
      " 3   card_type       8052 non-null   object \n",
      " 4   Revlv_ind       8052 non-null   object \n",
      " 5   spend_category  8052 non-null   object \n",
      " 6   Trans_amt       8052 non-null   float64\n",
      " 7   trans_cnt       8052 non-null   int64  \n",
      "dtypes: float64(1), int64(3), object(4)\n",
      "memory usage: 503.4+ KB\n"
     ]
    }
   ],
   "source": [
    "df.info()"
   ]
  },
  {
   "cell_type": "code",
   "execution_count": 10,
   "metadata": {},
   "outputs": [],
   "source": [
    "from sklearn.preprocessing import LabelEncoder"
   ]
  },
  {
   "cell_type": "code",
   "execution_count": 11,
   "metadata": {},
   "outputs": [
    {
     "data": {
      "text/plain": [
       "0    4\n",
       "1    1\n",
       "2    0\n",
       "3    4\n",
       "4    1\n",
       "Name: spend_category, dtype: int32"
      ]
     },
     "execution_count": 11,
     "metadata": {},
     "output_type": "execute_result"
    }
   ],
   "source": [
    "le = LabelEncoder()\n",
    "df['spend_category'] = le.fit_transform(df['spend_category'])\n",
    "df['spend_category'].head()"
   ]
  },
  {
   "cell_type": "code",
   "execution_count": 12,
   "metadata": {},
   "outputs": [
    {
     "name": "stdout",
     "output_type": "stream",
     "text": [
      "<class 'pandas.core.frame.DataFrame'>\n",
      "RangeIndex: 8052 entries, 0 to 8051\n",
      "Data columns (total 8 columns):\n",
      " #   Column          Non-Null Count  Dtype  \n",
      "---  ------          --------------  -----  \n",
      " 0   Month           8052 non-null   int64  \n",
      " 1   CLIENTNUM       8052 non-null   int64  \n",
      " 2   wealth_tag      8052 non-null   object \n",
      " 3   card_type       8052 non-null   object \n",
      " 4   Revlv_ind       8052 non-null   object \n",
      " 5   spend_category  8052 non-null   int32  \n",
      " 6   Trans_amt       8052 non-null   float64\n",
      " 7   trans_cnt       8052 non-null   int64  \n",
      "dtypes: float64(1), int32(1), int64(3), object(3)\n",
      "memory usage: 471.9+ KB\n"
     ]
    }
   ],
   "source": [
    "df.info()"
   ]
  },
  {
   "cell_type": "markdown",
   "metadata": {},
   "source": [
    "# Draw Graphs"
   ]
  },
  {
   "cell_type": "code",
   "execution_count": 13,
   "metadata": {},
   "outputs": [
    {
     "data": {
      "image/png": "[encoded data removed]",
      "text/plain": [
       "<Figure size 432x288 with 1 Axes>"
      ]
     },
     "metadata": {
      "needs_background": "light"
     },
     "output_type": "display_data"
    }
   ],
   "source": [
    "sns.barplot(df['Revlv_ind'] , df['spend_category'])\n",
    "sns.lineplot(df['Revlv_ind'] , df['spend_category'])\n",
    "plt.show()"
   ]
  },
  {
   "cell_type": "code",
   "execution_count": 14,
   "metadata": {},
   "outputs": [
    {
     "data": {
      "image/png": "[encoded data removed]",
      "text/plain": [
       "<Figure size 432x288 with 1 Axes>"
      ]
     },
     "metadata": {
      "needs_background": "light"
     },
     "output_type": "display_data"
    }
   ],
   "source": [
    "sns.barplot(df['spend_category'] , df['Trans_amt'])\n",
    "sns.lineplot(df['spend_category'] , df['Trans_amt'])\n",
    "plt.show()"
   ]
  },
  {
   "cell_type": "code",
   "execution_count": 15,
   "metadata": {},
   "outputs": [
    {
     "data": {
      "image/png": "[encoded data removed]",
      "text/plain": [
       "<Figure size 432x288 with 1 Axes>"
      ]
     },
     "metadata": {
      "needs_background": "light"
     },
     "output_type": "display_data"
    }
   ],
   "source": [
    "plt.bar(df['wealth_tag'] , df['trans_cnt'])\n",
    "plt.show()"
   ]
  },
  {
   "cell_type": "code",
   "execution_count": 16,
   "metadata": {},
   "outputs": [
    {
     "data": {
      "text/plain": [
       "<matplotlib.axes._subplots.AxesSubplot at 0x1fd23862c48>"
      ]
     },
     "execution_count": 16,
     "metadata": {},
     "output_type": "execute_result"
    },
    {
     "data": {
      "image/png": "[encoded data removed]",
      "text/plain": [
       "<Figure size 432x288 with 1 Axes>"
      ]
     },
     "metadata": {
      "needs_background": "light"
     },
     "output_type": "display_data"
    }
   ],
   "source": [
    "\n",
    "sns.distplot(df['Trans_amt'])"
   ]
  },
  {
   "cell_type": "code",
   "execution_count": 17,
   "metadata": {},
   "outputs": [
    {
     "data": {
      "text/plain": [
       "<matplotlib.axes._subplots.AxesSubplot at 0x1fd1d027f08>"
      ]
     },
     "execution_count": 17,
     "metadata": {},
     "output_type": "execute_result"
    },
    {
     "data": {
      "image/png": "[encoded data removed]",
      "text/plain": [
       "<Figure size 432x288 with 1 Axes>"
      ]
     },
     "metadata": {
      "needs_background": "light"
     },
     "output_type": "display_data"
    }
   ],
   "source": [
    " sns.barplot(df[\"Revlv_ind\"], df[\"trans_cnt\"])"
   ]
  },
  {
   "cell_type": "code",
   "execution_count": 18,
   "metadata": {},
   "outputs": [
    {
     "data": {
      "text/plain": [
       "<matplotlib.axes._subplots.AxesSubplot at 0x1fd22f9c208>"
      ]
     },
     "execution_count": 18,
     "metadata": {},
     "output_type": "execute_result"
    },
    {
     "data": {
      "image/png": "[encoded data removed]",
      "text/plain": [
       "<Figure size 432x288 with 1 Axes>"
      ]
     },
     "metadata": {},
     "output_type": "display_data"
    }
   ],
   "source": [
    "df['card_type'].value_counts().plot(kind = 'pie',autopct = '%1.0f%%')"
   ]
  },
  {
   "cell_type": "code",
   "execution_count": 19,
   "metadata": {},
   "outputs": [
    {
     "data": {
      "text/html": [
       "<div>\n",
       "<style scoped>\n",
       "    .dataframe tbody tr th:only-of-type {\n",
       "        vertical-align: middle;\n",
       "    }\n",
       "\n",
       "    .dataframe tbody tr th {\n",
       "        vertical-align: top;\n",
       "    }\n",
       "\n",
       "    .dataframe thead th {\n",
       "        text-align: right;\n",
       "    }\n",
       "</style>\n",
       "<table border=\"1\" class=\"dataframe\">\n",
       "  <thead>\n",
       "    <tr style=\"text-align: right;\">\n",
       "      <th>card_type</th>\n",
       "      <th>Blue</th>\n",
       "      <th>Gold</th>\n",
       "      <th>Platinum</th>\n",
       "    </tr>\n",
       "    <tr>\n",
       "      <th>Month</th>\n",
       "      <th></th>\n",
       "      <th></th>\n",
       "      <th></th>\n",
       "    </tr>\n",
       "  </thead>\n",
       "  <tbody>\n",
       "    <tr>\n",
       "      <th>1301</th>\n",
       "      <td>451</td>\n",
       "      <td>439</td>\n",
       "      <td>445</td>\n",
       "    </tr>\n",
       "    <tr>\n",
       "      <th>1302</th>\n",
       "      <td>441</td>\n",
       "      <td>450</td>\n",
       "      <td>438</td>\n",
       "    </tr>\n",
       "    <tr>\n",
       "      <th>1303</th>\n",
       "      <td>450</td>\n",
       "      <td>457</td>\n",
       "      <td>451</td>\n",
       "    </tr>\n",
       "    <tr>\n",
       "      <th>1304</th>\n",
       "      <td>444</td>\n",
       "      <td>432</td>\n",
       "      <td>431</td>\n",
       "    </tr>\n",
       "    <tr>\n",
       "      <th>1305</th>\n",
       "      <td>456</td>\n",
       "      <td>462</td>\n",
       "      <td>429</td>\n",
       "    </tr>\n",
       "    <tr>\n",
       "      <th>1306</th>\n",
       "      <td>454</td>\n",
       "      <td>467</td>\n",
       "      <td>455</td>\n",
       "    </tr>\n",
       "  </tbody>\n",
       "</table>\n",
       "</div>"
      ],
      "text/plain": [
       "card_type  Blue  Gold  Platinum\n",
       "Month                          \n",
       "1301        451   439       445\n",
       "1302        441   450       438\n",
       "1303        450   457       451\n",
       "1304        444   432       431\n",
       "1305        456   462       429\n",
       "1306        454   467       455"
      ]
     },
     "execution_count": 19,
     "metadata": {},
     "output_type": "execute_result"
    }
   ],
   "source": [
    "pd.crosstab(df.Month , df.card_type)"
   ]
  },
  {
   "cell_type": "code",
   "execution_count": 20,
   "metadata": {},
   "outputs": [
    {
     "data": {
      "text/html": [
       "<div>\n",
       "<style scoped>\n",
       "    .dataframe tbody tr th:only-of-type {\n",
       "        vertical-align: middle;\n",
       "    }\n",
       "\n",
       "    .dataframe tbody tr th {\n",
       "        vertical-align: top;\n",
       "    }\n",
       "\n",
       "    .dataframe thead th {\n",
       "        text-align: right;\n",
       "    }\n",
       "</style>\n",
       "<table border=\"1\" class=\"dataframe\">\n",
       "  <thead>\n",
       "    <tr style=\"text-align: right;\">\n",
       "      <th>card_type</th>\n",
       "      <th>Blue</th>\n",
       "      <th>Gold</th>\n",
       "      <th>Platinum</th>\n",
       "    </tr>\n",
       "    <tr>\n",
       "      <th>Month</th>\n",
       "      <th></th>\n",
       "      <th></th>\n",
       "      <th></th>\n",
       "    </tr>\n",
       "  </thead>\n",
       "  <tbody>\n",
       "    <tr>\n",
       "      <th>1301</th>\n",
       "      <td>451</td>\n",
       "      <td>439</td>\n",
       "      <td>445</td>\n",
       "    </tr>\n",
       "    <tr>\n",
       "      <th>1302</th>\n",
       "      <td>441</td>\n",
       "      <td>450</td>\n",
       "      <td>438</td>\n",
       "    </tr>\n",
       "    <tr>\n",
       "      <th>1303</th>\n",
       "      <td>450</td>\n",
       "      <td>457</td>\n",
       "      <td>451</td>\n",
       "    </tr>\n",
       "    <tr>\n",
       "      <th>1304</th>\n",
       "      <td>444</td>\n",
       "      <td>432</td>\n",
       "      <td>431</td>\n",
       "    </tr>\n",
       "    <tr>\n",
       "      <th>1305</th>\n",
       "      <td>456</td>\n",
       "      <td>462</td>\n",
       "      <td>429</td>\n",
       "    </tr>\n",
       "    <tr>\n",
       "      <th>1306</th>\n",
       "      <td>454</td>\n",
       "      <td>467</td>\n",
       "      <td>455</td>\n",
       "    </tr>\n",
       "  </tbody>\n",
       "</table>\n",
       "</div>"
      ],
      "text/plain": [
       "card_type  Blue  Gold  Platinum\n",
       "Month                          \n",
       "1301        451   439       445\n",
       "1302        441   450       438\n",
       "1303        450   457       451\n",
       "1304        444   432       431\n",
       "1305        456   462       429\n",
       "1306        454   467       455"
      ]
     },
     "execution_count": 20,
     "metadata": {},
     "output_type": "execute_result"
    }
   ],
   "source": [
    "pd.crosstab(df.Month , df.card_type)"
   ]
  },
  {
   "cell_type": "code",
   "execution_count": 21,
   "metadata": {},
   "outputs": [
    {
     "data": {
      "text/plain": [
       "<matplotlib.axes._subplots.AxesSubplot at 0x1fd2335c2c8>"
      ]
     },
     "execution_count": 21,
     "metadata": {},
     "output_type": "execute_result"
    },
    {
     "data": {
      "image/png": "[encoded data removed]",
      "text/plain": [
       "<Figure size 432x288 with 1 Axes>"
      ]
     },
     "metadata": {
      "needs_background": "light"
     },
     "output_type": "display_data"
    }
   ],
   "source": [
    "sns.barplot(df['card_type'], df['Trans_amt'])\n",
    "sns.lineplot(df['card_type'] , df['Trans_amt'])"
   ]
  },
  {
   "cell_type": "markdown",
   "metadata": {},
   "source": [
    "# Inference :"
   ]
  },
  {
   "cell_type": "markdown",
   "metadata": {},
   "source": [
    "Customers with platinum card had done the maximum amount of transactions & customerwith blue card had done minimum amount of transactions"
   ]
  },
  {
   "cell_type": "markdown",
   "metadata": {},
   "source": [
    "#  Platinum Card customer analysis"
   ]
  },
  {
   "cell_type": "code",
   "execution_count": 22,
   "metadata": {},
   "outputs": [
    {
     "data": {
      "text/html": [
       "<div>\n",
       "<style scoped>\n",
       "    .dataframe tbody tr th:only-of-type {\n",
       "        vertical-align: middle;\n",
       "    }\n",
       "\n",
       "    .dataframe tbody tr th {\n",
       "        vertical-align: top;\n",
       "    }\n",
       "\n",
       "    .dataframe thead th {\n",
       "        text-align: right;\n",
       "    }\n",
       "</style>\n",
       "<table border=\"1\" class=\"dataframe\">\n",
       "  <thead>\n",
       "    <tr style=\"text-align: right;\">\n",
       "      <th></th>\n",
       "      <th>Month</th>\n",
       "      <th>CLIENTNUM</th>\n",
       "      <th>wealth_tag</th>\n",
       "      <th>card_type</th>\n",
       "      <th>Revlv_ind</th>\n",
       "      <th>spend_category</th>\n",
       "      <th>Trans_amt</th>\n",
       "      <th>trans_cnt</th>\n",
       "    </tr>\n",
       "  </thead>\n",
       "  <tbody>\n",
       "    <tr>\n",
       "      <th>228</th>\n",
       "      <td>1301</td>\n",
       "      <td>5233857</td>\n",
       "      <td>High Net Worth</td>\n",
       "      <td>Platinum</td>\n",
       "      <td>Transactor</td>\n",
       "      <td>3</td>\n",
       "      <td>74.66</td>\n",
       "      <td>8</td>\n",
       "    </tr>\n",
       "    <tr>\n",
       "      <th>229</th>\n",
       "      <td>1301</td>\n",
       "      <td>5233857</td>\n",
       "      <td>High Net Worth</td>\n",
       "      <td>Platinum</td>\n",
       "      <td>Transactor</td>\n",
       "      <td>5</td>\n",
       "      <td>74.00</td>\n",
       "      <td>8</td>\n",
       "    </tr>\n",
       "    <tr>\n",
       "      <th>230</th>\n",
       "      <td>1301</td>\n",
       "      <td>4253063</td>\n",
       "      <td>High Net Worth</td>\n",
       "      <td>Platinum</td>\n",
       "      <td>Transactor</td>\n",
       "      <td>4</td>\n",
       "      <td>221.97</td>\n",
       "      <td>23</td>\n",
       "    </tr>\n",
       "    <tr>\n",
       "      <th>231</th>\n",
       "      <td>1301</td>\n",
       "      <td>4253063</td>\n",
       "      <td>High Net Worth</td>\n",
       "      <td>Platinum</td>\n",
       "      <td>Transactor</td>\n",
       "      <td>1</td>\n",
       "      <td>151.94</td>\n",
       "      <td>16</td>\n",
       "    </tr>\n",
       "    <tr>\n",
       "      <th>232</th>\n",
       "      <td>1301</td>\n",
       "      <td>4253063</td>\n",
       "      <td>High Net Worth</td>\n",
       "      <td>Platinum</td>\n",
       "      <td>Transactor</td>\n",
       "      <td>0</td>\n",
       "      <td>232.78</td>\n",
       "      <td>22</td>\n",
       "    </tr>\n",
       "  </tbody>\n",
       "</table>\n",
       "</div>"
      ],
      "text/plain": [
       "     Month  CLIENTNUM      wealth_tag card_type   Revlv_ind  spend_category  \\\n",
       "228   1301    5233857  High Net Worth  Platinum  Transactor               3   \n",
       "229   1301    5233857  High Net Worth  Platinum  Transactor               5   \n",
       "230   1301    4253063  High Net Worth  Platinum  Transactor               4   \n",
       "231   1301    4253063  High Net Worth  Platinum  Transactor               1   \n",
       "232   1301    4253063  High Net Worth  Platinum  Transactor               0   \n",
       "\n",
       "     Trans_amt  trans_cnt  \n",
       "228      74.66          8  \n",
       "229      74.00          8  \n",
       "230     221.97         23  \n",
       "231     151.94         16  \n",
       "232     232.78         22  "
      ]
     },
     "execution_count": 22,
     "metadata": {},
     "output_type": "execute_result"
    }
   ],
   "source": [
    "platinum_card = df[df['card_type'] == 'Platinum']\n",
    "platinum_card.head()"
   ]
  },
  {
   "cell_type": "code",
   "execution_count": 23,
   "metadata": {},
   "outputs": [
    {
     "data": {
      "text/plain": [
       "<matplotlib.axes._subplots.AxesSubplot at 0x1fd236eda08>"
      ]
     },
     "execution_count": 23,
     "metadata": {},
     "output_type": "execute_result"
    },
    {
     "data": {
      "image/png": "[encoded data removed]",
      "text/plain": [
       "<Figure size 432x288 with 1 Axes>"
      ]
     },
     "metadata": {
      "needs_background": "light"
     },
     "output_type": "display_data"
    }
   ],
   "source": [
    "sns.barplot(platinum_card['wealth_tag'],platinum_card['Trans_amt'])"
   ]
  },
  {
   "cell_type": "markdown",
   "metadata": {},
   "source": [
    "# Gold card customer analysis"
   ]
  },
  {
   "cell_type": "code",
   "execution_count": 24,
   "metadata": {},
   "outputs": [
    {
     "data": {
      "text/html": [
       "<div>\n",
       "<style scoped>\n",
       "    .dataframe tbody tr th:only-of-type {\n",
       "        vertical-align: middle;\n",
       "    }\n",
       "\n",
       "    .dataframe tbody tr th {\n",
       "        vertical-align: top;\n",
       "    }\n",
       "\n",
       "    .dataframe thead th {\n",
       "        text-align: right;\n",
       "    }\n",
       "</style>\n",
       "<table border=\"1\" class=\"dataframe\">\n",
       "  <thead>\n",
       "    <tr style=\"text-align: right;\">\n",
       "      <th></th>\n",
       "      <th>Month</th>\n",
       "      <th>CLIENTNUM</th>\n",
       "      <th>wealth_tag</th>\n",
       "      <th>card_type</th>\n",
       "      <th>Revlv_ind</th>\n",
       "      <th>spend_category</th>\n",
       "      <th>Trans_amt</th>\n",
       "      <th>trans_cnt</th>\n",
       "    </tr>\n",
       "  </thead>\n",
       "  <tbody>\n",
       "    <tr>\n",
       "      <th>114</th>\n",
       "      <td>1301</td>\n",
       "      <td>4215796</td>\n",
       "      <td>High Net Worth</td>\n",
       "      <td>Gold</td>\n",
       "      <td>Transactor</td>\n",
       "      <td>0</td>\n",
       "      <td>148.64</td>\n",
       "      <td>16</td>\n",
       "    </tr>\n",
       "    <tr>\n",
       "      <th>115</th>\n",
       "      <td>1301</td>\n",
       "      <td>4215796</td>\n",
       "      <td>High Net Worth</td>\n",
       "      <td>Gold</td>\n",
       "      <td>Transactor</td>\n",
       "      <td>4</td>\n",
       "      <td>148.00</td>\n",
       "      <td>16</td>\n",
       "    </tr>\n",
       "    <tr>\n",
       "      <th>116</th>\n",
       "      <td>1301</td>\n",
       "      <td>4215796</td>\n",
       "      <td>High Net Worth</td>\n",
       "      <td>Gold</td>\n",
       "      <td>Transactor</td>\n",
       "      <td>3</td>\n",
       "      <td>53.46</td>\n",
       "      <td>6</td>\n",
       "    </tr>\n",
       "    <tr>\n",
       "      <th>117</th>\n",
       "      <td>1301</td>\n",
       "      <td>4215796</td>\n",
       "      <td>High Net Worth</td>\n",
       "      <td>Gold</td>\n",
       "      <td>Transactor</td>\n",
       "      <td>1</td>\n",
       "      <td>97.09</td>\n",
       "      <td>10</td>\n",
       "    </tr>\n",
       "    <tr>\n",
       "      <th>118</th>\n",
       "      <td>1301</td>\n",
       "      <td>7780233</td>\n",
       "      <td>High Net Worth</td>\n",
       "      <td>Gold</td>\n",
       "      <td>Transactor</td>\n",
       "      <td>5</td>\n",
       "      <td>59.62</td>\n",
       "      <td>6</td>\n",
       "    </tr>\n",
       "  </tbody>\n",
       "</table>\n",
       "</div>"
      ],
      "text/plain": [
       "     Month  CLIENTNUM      wealth_tag card_type   Revlv_ind  spend_category  \\\n",
       "114   1301    4215796  High Net Worth      Gold  Transactor               0   \n",
       "115   1301    4215796  High Net Worth      Gold  Transactor               4   \n",
       "116   1301    4215796  High Net Worth      Gold  Transactor               3   \n",
       "117   1301    4215796  High Net Worth      Gold  Transactor               1   \n",
       "118   1301    7780233  High Net Worth      Gold  Transactor               5   \n",
       "\n",
       "     Trans_amt  trans_cnt  \n",
       "114     148.64         16  \n",
       "115     148.00         16  \n",
       "116      53.46          6  \n",
       "117      97.09         10  \n",
       "118      59.62          6  "
      ]
     },
     "execution_count": 24,
     "metadata": {},
     "output_type": "execute_result"
    }
   ],
   "source": [
    "Gold_card = df[df['card_type'] =='Gold']\n",
    "Gold_card.head()"
   ]
  },
  {
   "cell_type": "markdown",
   "metadata": {},
   "source": [
    "# Blue card customer analysis"
   ]
  },
  {
   "cell_type": "code",
   "execution_count": 25,
   "metadata": {},
   "outputs": [
    {
     "data": {
      "text/html": [
       "<div>\n",
       "<style scoped>\n",
       "    .dataframe tbody tr th:only-of-type {\n",
       "        vertical-align: middle;\n",
       "    }\n",
       "\n",
       "    .dataframe tbody tr th {\n",
       "        vertical-align: top;\n",
       "    }\n",
       "\n",
       "    .dataframe thead th {\n",
       "        text-align: right;\n",
       "    }\n",
       "</style>\n",
       "<table border=\"1\" class=\"dataframe\">\n",
       "  <thead>\n",
       "    <tr style=\"text-align: right;\">\n",
       "      <th></th>\n",
       "      <th>Month</th>\n",
       "      <th>CLIENTNUM</th>\n",
       "      <th>wealth_tag</th>\n",
       "      <th>card_type</th>\n",
       "      <th>Revlv_ind</th>\n",
       "      <th>spend_category</th>\n",
       "      <th>Trans_amt</th>\n",
       "      <th>trans_cnt</th>\n",
       "    </tr>\n",
       "  </thead>\n",
       "  <tbody>\n",
       "    <tr>\n",
       "      <th>0</th>\n",
       "      <td>1301</td>\n",
       "      <td>9124400</td>\n",
       "      <td>High Net Worth</td>\n",
       "      <td>Blue</td>\n",
       "      <td>Transactor</td>\n",
       "      <td>4</td>\n",
       "      <td>76.40</td>\n",
       "      <td>9</td>\n",
       "    </tr>\n",
       "    <tr>\n",
       "      <th>1</th>\n",
       "      <td>1301</td>\n",
       "      <td>9124400</td>\n",
       "      <td>High Net Worth</td>\n",
       "      <td>Blue</td>\n",
       "      <td>Transactor</td>\n",
       "      <td>1</td>\n",
       "      <td>55.48</td>\n",
       "      <td>6</td>\n",
       "    </tr>\n",
       "    <tr>\n",
       "      <th>2</th>\n",
       "      <td>1301</td>\n",
       "      <td>5782042</td>\n",
       "      <td>High Net Worth</td>\n",
       "      <td>Blue</td>\n",
       "      <td>Transactor</td>\n",
       "      <td>0</td>\n",
       "      <td>79.16</td>\n",
       "      <td>8</td>\n",
       "    </tr>\n",
       "    <tr>\n",
       "      <th>3</th>\n",
       "      <td>1301</td>\n",
       "      <td>5782042</td>\n",
       "      <td>High Net Worth</td>\n",
       "      <td>Blue</td>\n",
       "      <td>Transactor</td>\n",
       "      <td>4</td>\n",
       "      <td>78.87</td>\n",
       "      <td>8</td>\n",
       "    </tr>\n",
       "    <tr>\n",
       "      <th>4</th>\n",
       "      <td>1301</td>\n",
       "      <td>5782042</td>\n",
       "      <td>High Net Worth</td>\n",
       "      <td>Blue</td>\n",
       "      <td>Transactor</td>\n",
       "      <td>1</td>\n",
       "      <td>58.00</td>\n",
       "      <td>6</td>\n",
       "    </tr>\n",
       "  </tbody>\n",
       "</table>\n",
       "</div>"
      ],
      "text/plain": [
       "   Month  CLIENTNUM      wealth_tag card_type   Revlv_ind  spend_category  \\\n",
       "0   1301    9124400  High Net Worth      Blue  Transactor               4   \n",
       "1   1301    9124400  High Net Worth      Blue  Transactor               1   \n",
       "2   1301    5782042  High Net Worth      Blue  Transactor               0   \n",
       "3   1301    5782042  High Net Worth      Blue  Transactor               4   \n",
       "4   1301    5782042  High Net Worth      Blue  Transactor               1   \n",
       "\n",
       "   Trans_amt  trans_cnt  \n",
       "0      76.40          9  \n",
       "1      55.48          6  \n",
       "2      79.16          8  \n",
       "3      78.87          8  \n",
       "4      58.00          6  "
      ]
     },
     "execution_count": 25,
     "metadata": {},
     "output_type": "execute_result"
    }
   ],
   "source": [
    "Blue_card = df[df['card_type'] == 'Blue']\n",
    "Blue_card.head()"
   ]
  },
  {
   "cell_type": "markdown",
   "metadata": {},
   "source": [
    "# Standard daviation"
   ]
  },
  {
   "cell_type": "code",
   "execution_count": 26,
   "metadata": {},
   "outputs": [
    {
     "data": {
      "text/plain": [
       "Trans_amt         3.801611e+01\n",
       "trans_cnt         3.810159e+00\n",
       "Month             1.713077e+00\n",
       "CLIENTNUM         2.792124e+06\n",
       "spend_category    1.705714e+00\n",
       "dtype: float64"
      ]
     },
     "execution_count": 26,
     "metadata": {},
     "output_type": "execute_result"
    }
   ],
   "source": [
    "np.std(df[['Trans_amt','trans_cnt','Month', 'CLIENTNUM' , 'spend_category']])"
   ]
  },
  {
   "cell_type": "markdown",
   "metadata": {},
   "source": [
    "# Variance"
   ]
  },
  {
   "cell_type": "code",
   "execution_count": 27,
   "metadata": {},
   "outputs": [
    {
     "data": {
      "text/plain": [
       "Trans_amt         1.445225e+03\n",
       "trans_cnt         1.451731e+01\n",
       "Month             2.934632e+00\n",
       "CLIENTNUM         7.795956e+12\n",
       "spend_category    2.909460e+00\n",
       "dtype: float64"
      ]
     },
     "execution_count": 27,
     "metadata": {},
     "output_type": "execute_result"
    }
   ],
   "source": [
    "np.var(df[['Trans_amt','trans_cnt','Month', 'CLIENTNUM' , 'spend_category']])"
   ]
  },
  {
   "cell_type": "markdown",
   "metadata": {},
   "source": [
    "# Skewness"
   ]
  },
  {
   "cell_type": "code",
   "execution_count": 28,
   "metadata": {},
   "outputs": [
    {
     "data": {
      "text/plain": [
       "spend_category   -0.002569\n",
       "Month            -0.005451\n",
       "CLIENTNUM        -0.015012\n",
       "Trans_amt         1.917313\n",
       "trans_cnt         1.874800\n",
       "dtype: float64"
      ]
     },
     "execution_count": 28,
     "metadata": {},
     "output_type": "execute_result"
    }
   ],
   "source": [
    "df[['spend_category' , 'Month' , 'CLIENTNUM' , 'Trans_amt' , 'trans_cnt']].skew()"
   ]
  },
  {
   "cell_type": "markdown",
   "metadata": {},
   "source": [
    "# Range"
   ]
  },
  {
   "cell_type": "code",
   "execution_count": 29,
   "metadata": {},
   "outputs": [
    {
     "name": "stdout",
     "output_type": "stream",
     "text": [
      "Range of spend_category is 5\n",
      "Range of trans_cnt is 25\n",
      "Range of Month is 5\n",
      "Range of CLIENTNUM is 9996085\n",
      "Range of spend_category is 5\n"
     ]
    }
   ],
   "source": [
    "col = ['spend_category','trans_cnt','Month', 'CLIENTNUM' , 'spend_category']\n",
    "for i in col:\n",
    "    range_ = max(df[i])-min(df[i])\n",
    "    print(f\"Range of {i} is {range_}\")\n"
   ]
  },
  {
   "cell_type": "markdown",
   "metadata": {},
   "source": [
    "# Correlation"
   ]
  },
  {
   "cell_type": "code",
   "execution_count": 30,
   "metadata": {},
   "outputs": [
    {
     "data": {
      "text/html": [
       "<div>\n",
       "<style scoped>\n",
       "    .dataframe tbody tr th:only-of-type {\n",
       "        vertical-align: middle;\n",
       "    }\n",
       "\n",
       "    .dataframe tbody tr th {\n",
       "        vertical-align: top;\n",
       "    }\n",
       "\n",
       "    .dataframe thead th {\n",
       "        text-align: right;\n",
       "    }\n",
       "</style>\n",
       "<table border=\"1\" class=\"dataframe\">\n",
       "  <thead>\n",
       "    <tr style=\"text-align: right;\">\n",
       "      <th></th>\n",
       "      <th>Month</th>\n",
       "      <th>CLIENTNUM</th>\n",
       "      <th>spend_category</th>\n",
       "      <th>Trans_amt</th>\n",
       "      <th>trans_cnt</th>\n",
       "    </tr>\n",
       "  </thead>\n",
       "  <tbody>\n",
       "    <tr>\n",
       "      <th>Month</th>\n",
       "      <td>1.000000</td>\n",
       "      <td>-0.000532</td>\n",
       "      <td>0.004879</td>\n",
       "      <td>0.022074</td>\n",
       "      <td>0.024132</td>\n",
       "    </tr>\n",
       "    <tr>\n",
       "      <th>CLIENTNUM</th>\n",
       "      <td>-0.000532</td>\n",
       "      <td>1.000000</td>\n",
       "      <td>-0.014045</td>\n",
       "      <td>-0.062280</td>\n",
       "      <td>-0.058197</td>\n",
       "    </tr>\n",
       "    <tr>\n",
       "      <th>spend_category</th>\n",
       "      <td>0.004879</td>\n",
       "      <td>-0.014045</td>\n",
       "      <td>1.000000</td>\n",
       "      <td>-0.195350</td>\n",
       "      <td>-0.194414</td>\n",
       "    </tr>\n",
       "    <tr>\n",
       "      <th>Trans_amt</th>\n",
       "      <td>0.022074</td>\n",
       "      <td>-0.062280</td>\n",
       "      <td>-0.195350</td>\n",
       "      <td>1.000000</td>\n",
       "      <td>0.972036</td>\n",
       "    </tr>\n",
       "    <tr>\n",
       "      <th>trans_cnt</th>\n",
       "      <td>0.024132</td>\n",
       "      <td>-0.058197</td>\n",
       "      <td>-0.194414</td>\n",
       "      <td>0.972036</td>\n",
       "      <td>1.000000</td>\n",
       "    </tr>\n",
       "  </tbody>\n",
       "</table>\n",
       "</div>"
      ],
      "text/plain": [
       "                   Month  CLIENTNUM  spend_category  Trans_amt  trans_cnt\n",
       "Month           1.000000  -0.000532        0.004879   0.022074   0.024132\n",
       "CLIENTNUM      -0.000532   1.000000       -0.014045  -0.062280  -0.058197\n",
       "spend_category  0.004879  -0.014045        1.000000  -0.195350  -0.194414\n",
       "Trans_amt       0.022074  -0.062280       -0.195350   1.000000   0.972036\n",
       "trans_cnt       0.024132  -0.058197       -0.194414   0.972036   1.000000"
      ]
     },
     "execution_count": 30,
     "metadata": {},
     "output_type": "execute_result"
    }
   ],
   "source": [
    "df.corr()"
   ]
  },
  {
   "cell_type": "code",
   "execution_count": 31,
   "metadata": {},
   "outputs": [
    {
     "data": {
      "text/plain": [
       "spend_category    2.501987e+00\n",
       "Month             1.303513e+03\n",
       "CLIENTNUM         5.048122e+06\n",
       "Trans_amt         4.540004e+01\n",
       "trans_cnt         5.045455e+00\n",
       "dtype: float64"
      ]
     },
     "execution_count": 31,
     "metadata": {},
     "output_type": "execute_result"
    }
   ],
   "source": [
    "df[['spend_category' , 'Month' , 'CLIENTNUM' , 'Trans_amt' , 'trans_cnt']].mean()"
   ]
  },
  {
   "cell_type": "code",
   "execution_count": 32,
   "metadata": {},
   "outputs": [
    {
     "data": {
      "text/plain": [
       "spend_category          3.000\n",
       "Month                1304.000\n",
       "CLIENTNUM         5138360.000\n",
       "Trans_amt              33.705\n",
       "trans_cnt               4.000\n",
       "dtype: float64"
      ]
     },
     "execution_count": 32,
     "metadata": {},
     "output_type": "execute_result"
    }
   ],
   "source": [
    "df[['spend_category' , 'Month' , 'CLIENTNUM' , 'Trans_amt' , 'trans_cnt']].median()"
   ]
  },
  {
   "cell_type": "code",
   "execution_count": 33,
   "metadata": {},
   "outputs": [
    {
     "data": {
      "image/png": "[encoded data removed]",
      "text/plain": [
       "<Figure size 360x360 with 6 Axes>"
      ]
     },
     "metadata": {
      "needs_background": "light"
     },
     "output_type": "display_data"
    }
   ],
   "source": [
    "df.hist(figsize=(5,5))\n",
    "plt.show()"
   ]
  },
  {
   "cell_type": "code",
   "execution_count": null,
   "metadata": {},
   "outputs": [],
   "source": []
  }
 ],
 "metadata": {
  "kernelspec": {
   "display_name": "Python 3",
   "language": "python",
   "name": "python3"
  },
  "language_info": {
   "codemirror_mode": {
    "name": "ipython",
    "version": 3
   },
   "file_extension": ".py",
   "mimetype": "text/x-python",
   "name": "python",
   "nbconvert_exporter": "python",
   "pygments_lexer": "ipython3",
   "version": "3.7.6"
  }
 },
 "nbformat": 4,
 "nbformat_minor": 4
}
